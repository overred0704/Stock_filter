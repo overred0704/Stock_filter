{
  "nbformat": 4,
  "nbformat_minor": 0,
  "metadata": {
    "colab": {
      "name": "stock filter666 class mode.ipynb",
      "provenance": [],
      "authorship_tag": "ABX9TyPM1XO3oVRX08dwlzPt2Z+x",
      "include_colab_link": true
    },
    "kernelspec": {
      "name": "python3",
      "display_name": "Python 3"
    },
    "language_info": {
      "name": "python"
    }
  },
  "cells": [
    {
      "cell_type": "markdown",
      "metadata": {
        "id": "view-in-github",
        "colab_type": "text"
      },
      "source": [
        "<a href=\"https://colab.research.google.com/github/overred0704/Stock_filter/blob/main/stock_filter.ipynb\" target=\"_parent\"><img src=\"https://colab.research.google.com/assets/colab-badge.svg\" alt=\"Open In Colab\"/></a>"
      ]
    },
    {
      "cell_type": "markdown",
      "metadata": {
        "id": "fgjXooLPuwqc"
      },
      "source": [
        "#gogo"
      ]
    },
    {
      "cell_type": "markdown",
      "metadata": {
        "id": "Oeusmv92Sts7"
      },
      "source": [
        "##import package"
      ]
    },
    {
      "cell_type": "code",
      "metadata": {
        "id": "nIdbUuDOSwA0"
      },
      "source": [
        "import requests\n",
        "from io import StringIO\n",
        "import pandas as pd\n",
        "import numpy as np\n",
        "import datetime\n",
        "import time"
      ],
      "execution_count": null,
      "outputs": []
    },
    {
      "cell_type": "markdown",
      "metadata": {
        "id": "lZ1c30IOTCzy"
      },
      "source": [
        "##set crawler"
      ]
    },
    {
      "cell_type": "code",
      "metadata": {
        "id": "-onSH0RWTErT"
      },
      "source": [
        "def crawl_price(date):\n",
        "    url = requests.post('http://www.twse.com.tw/exchangeReport/MI_INDEX?response=csv&date=' + str(date).split(' ')[0].replace('-','') + '&type=ALL')\n",
        "    df = pd.read_csv(StringIO(\"\\n\".join([i.translate({ord(c): None for c in ' '}) \n",
        "                                        for i in url.text.split('\\n') \n",
        "                                        if len(i.split('\",')) == 17 and i[0] != '='])), header=0)\n",
        "    df = df.set_index('證券代號')\n",
        "    df['成交金額'] = df['成交金額'].str.replace(',','')\n",
        "    df['成交股數'] = df['成交股數'].str.replace(',','')\n",
        "    return df"
      ],
      "execution_count": null,
      "outputs": []
    },
    {
      "cell_type": "markdown",
      "metadata": {
        "id": "f5eub-5FT273"
      },
      "source": [
        "##set runing"
      ]
    },
    {
      "cell_type": "code",
      "metadata": {
        "id": "LZcPfpnfT9OF"
      },
      "source": [
        "def running(n_days=3, max_fail_count = 4, date=datetime.datetime.now()):\n",
        "  \n",
        "  #variable initial\n",
        "  data = {}\n",
        "  fail_count = 0\n",
        "\n",
        "  while n_days > 0 :\n",
        "\n",
        "    print('loading', date)\n",
        "    # crawler\n",
        "    try:\n",
        "        # start\n",
        "        data[date.date()] = crawl_price(date)\n",
        "        print('complete!')\n",
        "        fail_count = 0\n",
        "    except:\n",
        "        # 跳過假日\n",
        "        print('fail!')\n",
        "        fail_count += 1\n",
        "    else:\n",
        "      n_days -= 1\n",
        "    if fail_count > max_fail_count:\n",
        "      break\n",
        "    \n",
        "    #update day\n",
        "    date -= datetime.timedelta(days=1)\n",
        "    time.sleep(20)\n",
        "\n",
        "    \n",
        "\n",
        "  #取得股數\n",
        "  df = pd.DataFrame({k:d['成交股數'] for k,d in data.items()}).transpose()\n",
        "  df.index = pd.to_datetime(df.index)\n",
        "  c = df.transpose()   \n",
        "\n",
        "  #剔除空值\n",
        "  c.dropna(axis=0, inplace=True)\n",
        "\n",
        "  #convert data type and rename columns\n",
        "  c = c.astype(str).astype(int)\n",
        "  c.columns = ['今天', '昨天','前天']\n",
        "\n",
        "  return c"
      ],
      "execution_count": null,
      "outputs": []
    },
    {
      "cell_type": "markdown",
      "metadata": {
        "id": "8v8U-zWMu8o8"
      },
      "source": [
        "#set"
      ]
    },
    {
      "cell_type": "code",
      "metadata": {
        "colab": {
          "base_uri": "https://localhost:8080/"
        },
        "id": "1ubg8EXRu4ql",
        "outputId": "d84c6e01-5b91-42bd-a322-834a13069d4e"
      },
      "source": [
        "da = datetime.datetime(2021,2,4)\n",
        "print(da)"
      ],
      "execution_count": null,
      "outputs": [
        {
          "output_type": "stream",
          "text": [
            "2021-02-04 00:00:00\n"
          ],
          "name": "stdout"
        }
      ]
    },
    {
      "cell_type": "code",
      "metadata": {
        "id": "d8qv00ylGbyA"
      },
      "source": [
        "def time(year, mon, day):\n",
        "  d = datetime.datetime(year, mon, day)\n",
        "  return d"
      ],
      "execution_count": 5,
      "outputs": []
    },
    {
      "cell_type": "code",
      "metadata": {
        "id": "SQykJE8vGlL-"
      },
      "source": [
        "d = time(2021,4,2)"
      ],
      "execution_count": 7,
      "outputs": []
    },
    {
      "cell_type": "code",
      "metadata": {
        "colab": {
          "base_uri": "https://localhost:8080/",
          "height": 35
        },
        "id": "RnqGl9mzG2hC",
        "outputId": "ddde1fb2-3c5a-47d5-e440-45e544c90f25"
      },
      "source": [
        "str(d).split(' ')[0].replace('-','')"
      ],
      "execution_count": 8,
      "outputs": [
        {
          "output_type": "execute_result",
          "data": {
            "application/vnd.google.colaboratory.intrinsic+json": {
              "type": "string"
            },
            "text/plain": [
              "'20210402'"
            ]
          },
          "metadata": {
            "tags": []
          },
          "execution_count": 8
        }
      ]
    },
    {
      "cell_type": "code",
      "metadata": {
        "id": "rfffW2r5GZ85"
      },
      "source": [
        "da = da"
      ],
      "execution_count": null,
      "outputs": []
    },
    {
      "cell_type": "code",
      "metadata": {
        "colab": {
          "base_uri": "https://localhost:8080/"
        },
        "id": "Z2Tz_TDKqTXJ",
        "outputId": "1cd653e7-e3a8-40a4-cd27-e0e9790eb388"
      },
      "source": [
        "number = int(input(\"Enter a number: \"))"
      ],
      "execution_count": 96,
      "outputs": [
        {
          "output_type": "stream",
          "text": [
            "Enter a number: 2\n"
          ],
          "name": "stdout"
        }
      ]
    },
    {
      "cell_type": "code",
      "metadata": {
        "colab": {
          "base_uri": "https://localhost:8080/"
        },
        "id": "kn2knR5yqee2",
        "outputId": "d8188629-832b-41df-b5bb-9aac1ef79e28"
      },
      "source": [
        "number"
      ],
      "execution_count": 97,
      "outputs": [
        {
          "output_type": "execute_result",
          "data": {
            "text/plain": [
              "2"
            ]
          },
          "metadata": {
            "tags": []
          },
          "execution_count": 97
        }
      ]
    },
    {
      "cell_type": "code",
      "metadata": {
        "id": "OUDaxLojIx8s"
      },
      "source": [
        " def get_time():\n",
        "    y, m, d = map(int, input().split())\n",
        "    d = datetime.datetime(y, m, d)\n",
        "    return d"
      ],
      "execution_count": 30,
      "outputs": []
    },
    {
      "cell_type": "code",
      "metadata": {
        "id": "MkWqPCjUK71Y"
      },
      "source": [
        ""
      ],
      "execution_count": null,
      "outputs": []
    },
    {
      "cell_type": "code",
      "metadata": {
        "colab": {
          "base_uri": "https://localhost:8080/"
        },
        "id": "2uzkb7RvKyh4",
        "outputId": "1dffc0b4-e435-41c2-f9e6-c254845435b2"
      },
      "source": [
        "get_time()"
      ],
      "execution_count": 31,
      "outputs": [
        {
          "output_type": "stream",
          "text": [
            "2021 3 4\n"
          ],
          "name": "stdout"
        },
        {
          "output_type": "execute_result",
          "data": {
            "text/plain": [
              "datetime.datetime(2021, 3, 4, 0, 0)"
            ]
          },
          "metadata": {
            "tags": []
          },
          "execution_count": 31
        }
      ]
    },
    {
      "cell_type": "code",
      "metadata": {
        "id": "QnWWSlZjJ5Fo"
      },
      "source": [
        "line = 'a s d'"
      ],
      "execution_count": 17,
      "outputs": []
    },
    {
      "cell_type": "code",
      "metadata": {
        "colab": {
          "base_uri": "https://localhost:8080/"
        },
        "id": "u1CZE1_eIyr3",
        "outputId": "dc9ebe04-5433-4124-d875-adfa5852f5a8"
      },
      "source": [
        "x, y = input(\"Enter a two value: \").split()"
      ],
      "execution_count": 23,
      "outputs": [
        {
          "output_type": "stream",
          "text": [
            "Enter a two value: 2 3\n"
          ],
          "name": "stdout"
        }
      ]
    },
    {
      "cell_type": "code",
      "metadata": {
        "colab": {
          "base_uri": "https://localhost:8080/"
        },
        "id": "z4uAJ1n3KoVV",
        "outputId": "363eb958-6827-462f-f177-766011bf7f3b"
      },
      "source": [
        "a, b, c = input().split()"
      ],
      "execution_count": 24,
      "outputs": [
        {
          "output_type": "stream",
          "text": [
            "2 3 4\n"
          ],
          "name": "stdout"
        }
      ]
    },
    {
      "cell_type": "code",
      "metadata": {
        "colab": {
          "base_uri": "https://localhost:8080/"
        },
        "id": "PQjdx9wjJ9kk",
        "outputId": "ac18df63-4761-490e-81ef-d33a8f36dd40"
      },
      "source": [
        "a"
      ],
      "execution_count": 19,
      "outputs": [
        {
          "output_type": "execute_result",
          "data": {
            "text/plain": [
              "['a', 's', 'd']"
            ]
          },
          "metadata": {
            "tags": []
          },
          "execution_count": 19
        }
      ]
    },
    {
      "cell_type": "code",
      "metadata": {
        "id": "7zxGfQmHp1Ak"
      },
      "source": [
        "datetime.datetime(2021,2,4)"
      ],
      "execution_count": null,
      "outputs": []
    },
    {
      "cell_type": "code",
      "metadata": {
        "colab": {
          "base_uri": "https://localhost:8080/"
        },
        "id": "ZaIGfDANGZOy",
        "outputId": "1efc17a4-c15a-4e11-a292-1f198c6aafc7"
      },
      "source": [
        "df = running(date=da)"
      ],
      "execution_count": null,
      "outputs": [
        {
          "output_type": "stream",
          "text": [
            "loading 2021-02-04 00:00:00\n",
            "complete!\n",
            "loading 2021-02-03 00:00:00\n",
            "complete!\n",
            "loading 2021-02-02 00:00:00\n",
            "complete!\n"
          ],
          "name": "stdout"
        }
      ]
    },
    {
      "cell_type": "code",
      "metadata": {
        "id": "E-w3uigWGlP0"
      },
      "source": [
        "w1 = (1/4)\n",
        "w2 = 3"
      ],
      "execution_count": null,
      "outputs": []
    },
    {
      "cell_type": "code",
      "metadata": {
        "id": "Z5FaMJjfGdc7"
      },
      "source": [
        "#calculate threshold\n",
        "df['threshold1'] = df['今天'] - w1 * df['昨天']\n",
        "df['threshold2'] = df['前天'] * w2 - df['昨天']"
      ],
      "execution_count": null,
      "outputs": []
    },
    {
      "cell_type": "code",
      "metadata": {
        "id": "zmsQN8EuG5Zw"
      },
      "source": [
        "#set filter\n",
        "f1 = df['threshold1'] < 0\n",
        "f2 = df['threshold2'] < 0"
      ],
      "execution_count": null,
      "outputs": []
    },
    {
      "cell_type": "code",
      "metadata": {
        "id": "BkSvlGkAG-pC"
      },
      "source": [
        "#write to new df\n",
        "df_new = df[(f1 & f2 )].sort_values('前天',ascending=False)\n",
        "\n",
        "df_new = df_new.drop(['threshold1', 'threshold2'], axis=1)\n",
        "\n",
        "df_new.index.name = None"
      ],
      "execution_count": null,
      "outputs": []
    },
    {
      "cell_type": "code",
      "metadata": {
        "id": "Jx8wqExOHbDy",
        "colab": {
          "base_uri": "https://localhost:8080/",
          "height": 450
        },
        "outputId": "ff4e0713-3fec-4d49-e13d-dbcd68d66c5f"
      },
      "source": [
        "df_new"
      ],
      "execution_count": null,
      "outputs": [
        {
          "output_type": "execute_result",
          "data": {
            "text/html": [
              "<div>\n",
              "<style scoped>\n",
              "    .dataframe tbody tr th:only-of-type {\n",
              "        vertical-align: middle;\n",
              "    }\n",
              "\n",
              "    .dataframe tbody tr th {\n",
              "        vertical-align: top;\n",
              "    }\n",
              "\n",
              "    .dataframe thead th {\n",
              "        text-align: right;\n",
              "    }\n",
              "</style>\n",
              "<table border=\"1\" class=\"dataframe\">\n",
              "  <thead>\n",
              "    <tr style=\"text-align: right;\">\n",
              "      <th></th>\n",
              "      <th>今天</th>\n",
              "      <th>昨天</th>\n",
              "      <th>前天</th>\n",
              "    </tr>\n",
              "  </thead>\n",
              "  <tbody>\n",
              "    <tr>\n",
              "      <th>6191</th>\n",
              "      <td>3617132</td>\n",
              "      <td>17170768</td>\n",
              "      <td>4603081</td>\n",
              "    </tr>\n",
              "    <tr>\n",
              "      <th>6120</th>\n",
              "      <td>1318343</td>\n",
              "      <td>6634404</td>\n",
              "      <td>2070752</td>\n",
              "    </tr>\n",
              "    <tr>\n",
              "      <th>1218</th>\n",
              "      <td>553353</td>\n",
              "      <td>7614365</td>\n",
              "      <td>2043530</td>\n",
              "    </tr>\n",
              "    <tr>\n",
              "      <th>6209</th>\n",
              "      <td>1747188</td>\n",
              "      <td>7600982</td>\n",
              "      <td>1542258</td>\n",
              "    </tr>\n",
              "    <tr>\n",
              "      <th>6213</th>\n",
              "      <td>607978</td>\n",
              "      <td>3026585</td>\n",
              "      <td>840040</td>\n",
              "    </tr>\n",
              "    <tr>\n",
              "      <th>3060</th>\n",
              "      <td>641203</td>\n",
              "      <td>4094512</td>\n",
              "      <td>418528</td>\n",
              "    </tr>\n",
              "    <tr>\n",
              "      <th>1616</th>\n",
              "      <td>337470</td>\n",
              "      <td>1630585</td>\n",
              "      <td>362873</td>\n",
              "    </tr>\n",
              "    <tr>\n",
              "      <th>1532</th>\n",
              "      <td>131728</td>\n",
              "      <td>1535845</td>\n",
              "      <td>294418</td>\n",
              "    </tr>\n",
              "    <tr>\n",
              "      <th>2495</th>\n",
              "      <td>218341</td>\n",
              "      <td>1056504</td>\n",
              "      <td>258549</td>\n",
              "    </tr>\n",
              "    <tr>\n",
              "      <th>1726</th>\n",
              "      <td>6001</td>\n",
              "      <td>29485</td>\n",
              "      <td>8193</td>\n",
              "    </tr>\n",
              "    <tr>\n",
              "      <th>6641</th>\n",
              "      <td>3132</td>\n",
              "      <td>14326</td>\n",
              "      <td>2047</td>\n",
              "    </tr>\n",
              "    <tr>\n",
              "      <th>8480</th>\n",
              "      <td>2167</td>\n",
              "      <td>356343</td>\n",
              "      <td>2000</td>\n",
              "    </tr>\n",
              "    <tr>\n",
              "      <th>1312A</th>\n",
              "      <td>0</td>\n",
              "      <td>7000</td>\n",
              "      <td>0</td>\n",
              "    </tr>\n",
              "  </tbody>\n",
              "</table>\n",
              "</div>"
            ],
            "text/plain": [
              "            今天        昨天       前天\n",
              "6191   3617132  17170768  4603081\n",
              "6120   1318343   6634404  2070752\n",
              "1218    553353   7614365  2043530\n",
              "6209   1747188   7600982  1542258\n",
              "6213    607978   3026585   840040\n",
              "3060    641203   4094512   418528\n",
              "1616    337470   1630585   362873\n",
              "1532    131728   1535845   294418\n",
              "2495    218341   1056504   258549\n",
              "1726      6001     29485     8193\n",
              "6641      3132     14326     2047\n",
              "8480      2167    356343     2000\n",
              "1312A        0      7000        0"
            ]
          },
          "metadata": {
            "tags": []
          },
          "execution_count": 10
        }
      ]
    },
    {
      "cell_type": "markdown",
      "metadata": {
        "id": "4VJRcg_9HKJI"
      },
      "source": [
        "#filtering function"
      ]
    },
    {
      "cell_type": "code",
      "metadata": {
        "id": "s0u7WGd3WlC9"
      },
      "source": [
        "def filtering(w1 = (1/3), w2 = 3):\n",
        "  df = running()\n",
        "\n",
        "  #calculate threshold\n",
        "  df['threshold1'] = df['今天'] - w1 * df['昨天']\n",
        "  df['threshold2'] = df['前天'] * w2 - df['昨天']\n",
        "\n",
        "  #set filter\n",
        "  f1 = df['threshold1'] < 0\n",
        "  f2 = df['threshold2'] < 0\n",
        "\n",
        "  #write to new df\n",
        "  df_new = df[(f1 & f2 )].sort_values('前天',ascending=False)\n",
        "\n",
        "  df_new = df_new.drop(['threshold1', 'threshold2'], axis=1)\n",
        "\n",
        "  df_new.index.name = None\n",
        "\n",
        "  return df_new"
      ],
      "execution_count": null,
      "outputs": []
    },
    {
      "cell_type": "code",
      "metadata": {
        "colab": {
          "base_uri": "https://localhost:8080/"
        },
        "id": "ihA1dnHnXxfS",
        "outputId": "7516f966-9879-4ebe-a9c4-d5da0a846bac"
      },
      "source": [
        "test = filtering()"
      ],
      "execution_count": null,
      "outputs": [
        {
          "output_type": "stream",
          "text": [
            "loading 2021-06-18 09:10:49.389117\n",
            "complete!\n",
            "loading 2021-06-17 09:10:49.389117\n",
            "complete!\n",
            "loading 2021-06-16 09:10:49.389117\n",
            "complete!\n"
          ],
          "name": "stdout"
        }
      ]
    },
    {
      "cell_type": "markdown",
      "metadata": {
        "id": "JOd9Q0NecFQC"
      },
      "source": [
        "#class learning"
      ]
    },
    {
      "cell_type": "code",
      "metadata": {
        "id": "F8NKUP88cH9N"
      },
      "source": [
        "import requests\n",
        "from io import StringIO\n",
        "import pandas as pd\n",
        "import numpy as np\n",
        "import datetime\n",
        "import time"
      ],
      "execution_count": 48,
      "outputs": []
    },
    {
      "cell_type": "code",
      "metadata": {
        "id": "N1ix9CadcKY-"
      },
      "source": [
        "class stock_filter():\n",
        "  \n",
        "  def crawler(self, date):\n",
        "    url = requests.post('http://www.twse.com.tw/exchangeReport/MI_INDEX?response=csv&date=' + str(date).split(' ')[0].replace('-','') + '&type=ALL')\n",
        "    self.df = pd.read_csv(StringIO(\"\\n\".join([i.translate({ord(c): None for c in ' '}) \n",
        "                                        for i in url.text.split('\\n') \n",
        "                                        if len(i.split('\",')) == 17 and i[0] != '='])), header=0)\n",
        "    self.df = self.df.set_index('證券代號')\n",
        "    self.df['成交金額'] = self.df['成交金額'].str.replace(',','')\n",
        "    self.df['成交股數'] = self.df['成交股數'].str.replace(',','')\n",
        "    return self.df\n",
        "  \n",
        "  def running(self, n_days=3, max_fail_count = 4, date=datetime.datetime.now()): \n",
        "    #variable initial\n",
        "    data = {}\n",
        "    fail_count = 0\n",
        "    n_days = n_days\n",
        "    max_fail_count = max_fail_count\n",
        "    date = date\n",
        "\n",
        "    while n_days > 0 :\n",
        "\n",
        "      print('loading', date)\n",
        "      # crawler\n",
        "      try:\n",
        "          # start\n",
        "          data[date.date()] = self.crawler(date)\n",
        "          print('complete!')\n",
        "          fail_count = 0\n",
        "      except:\n",
        "          # 跳過假日\n",
        "          print('fail!')\n",
        "          fail_count += 1\n",
        "      else:\n",
        "        n_days -= 1\n",
        "      if fail_count > max_fail_count:\n",
        "        break\n",
        "      \n",
        "      #update day\n",
        "      date -= datetime.timedelta(days=1)\n",
        "      time.sleep(20)\n",
        "\n",
        "      \n",
        "\n",
        "    #取得股數\n",
        "    df = pd.DataFrame({k:d['成交股數'] for k,d in data.items()}).transpose()\n",
        "    df.index = pd.to_datetime(df.index)\n",
        "    df = df.transpose()   \n",
        "\n",
        "    #剔除空值\n",
        "    df.dropna(axis=0, inplace=True)\n",
        "\n",
        "    #convert data type and rename columns\n",
        "    df = df.astype(str).astype(int)\n",
        "    df.columns = ['今天', '昨天','前天']\n",
        "\n",
        "    return df\n",
        "\n",
        "  def get_time(self):\n",
        "    y, m, d = map(int, input().split())\n",
        "    d = datetime.datetime(y, m, d)\n",
        "    return d\n",
        "  \n",
        "  def filter1(self,  w1 = (1/4) , w2 = 3, day = 'today'):\n",
        "    da = day\n",
        "    if da == 'today':\n",
        "      d = datetime.datetime.now()\n",
        "    else:\n",
        "      d = get_time()\n",
        "\n",
        "    df = self.running(date = d)\n",
        "    w1 = w1\n",
        "    w2 = w2\n",
        "\n",
        "    #calculate threshold\n",
        "    df['threshold1'] = df['今天'] - w1 * df['昨天']\n",
        "    df['threshold2'] = df['前天'] * w2 - df['昨天']\n",
        "\n",
        "    #set filter\n",
        "    f1 = df['threshold1'] < 0\n",
        "    f2 = df['threshold2'] < 0\n",
        "\n",
        "    #write to new df\n",
        "    df = df[(f1 & f2 )].sort_values('前天',ascending=False)\n",
        "\n",
        "    df = df.drop(['threshold1', 'threshold2'], axis=1)\n",
        "\n",
        "    df.index.name = None\n",
        "\n",
        "    return df"
      ],
      "execution_count": 61,
      "outputs": []
    },
    {
      "cell_type": "code",
      "metadata": {
        "id": "E9zuhOIhczSR"
      },
      "source": [
        "c = stock_filter()\n"
      ],
      "execution_count": 63,
      "outputs": []
    },
    {
      "cell_type": "code",
      "metadata": {
        "colab": {
          "base_uri": "https://localhost:8080/",
          "height": 365
        },
        "id": "R0VDWNf3e_PH",
        "outputId": "6851ec06-e91b-4479-e21b-64c4f794a9de"
      },
      "source": [
        "c.filter1(w1=0.3, w2=4, day = 'other')"
      ],
      "execution_count": 64,
      "outputs": [
        {
          "output_type": "stream",
          "text": [
            "2021 4 3\n",
            "loading 2021-04-03 00:00:00\n",
            "fail!\n"
          ],
          "name": "stdout"
        },
        {
          "output_type": "error",
          "ename": "KeyboardInterrupt",
          "evalue": "ignored",
          "traceback": [
            "\u001b[0;31m---------------------------------------------------------------------------\u001b[0m",
            "\u001b[0;31mKeyboardInterrupt\u001b[0m                         Traceback (most recent call last)",
            "\u001b[0;32m<ipython-input-64-19b6ea783149>\u001b[0m in \u001b[0;36m<module>\u001b[0;34m()\u001b[0m\n\u001b[0;32m----> 1\u001b[0;31m \u001b[0mc\u001b[0m\u001b[0;34m.\u001b[0m\u001b[0mfilter1\u001b[0m\u001b[0;34m(\u001b[0m\u001b[0mw1\u001b[0m\u001b[0;34m=\u001b[0m\u001b[0;36m0.3\u001b[0m\u001b[0;34m,\u001b[0m \u001b[0mw2\u001b[0m\u001b[0;34m=\u001b[0m\u001b[0;36m4\u001b[0m\u001b[0;34m,\u001b[0m \u001b[0mday\u001b[0m \u001b[0;34m=\u001b[0m \u001b[0;34m'other'\u001b[0m\u001b[0;34m)\u001b[0m\u001b[0;34m\u001b[0m\u001b[0;34m\u001b[0m\u001b[0m\n\u001b[0m",
            "\u001b[0;32m<ipython-input-61-41d62d061336>\u001b[0m in \u001b[0;36mfilter1\u001b[0;34m(self, w1, w2, day)\u001b[0m\n\u001b[1;32m     69\u001b[0m       \u001b[0md\u001b[0m \u001b[0;34m=\u001b[0m \u001b[0mget_time\u001b[0m\u001b[0;34m(\u001b[0m\u001b[0;34m)\u001b[0m\u001b[0;34m\u001b[0m\u001b[0;34m\u001b[0m\u001b[0m\n\u001b[1;32m     70\u001b[0m \u001b[0;34m\u001b[0m\u001b[0m\n\u001b[0;32m---> 71\u001b[0;31m     \u001b[0mdf\u001b[0m \u001b[0;34m=\u001b[0m \u001b[0mself\u001b[0m\u001b[0;34m.\u001b[0m\u001b[0mrunning\u001b[0m\u001b[0;34m(\u001b[0m\u001b[0mdate\u001b[0m \u001b[0;34m=\u001b[0m \u001b[0md\u001b[0m\u001b[0;34m)\u001b[0m\u001b[0;34m\u001b[0m\u001b[0;34m\u001b[0m\u001b[0m\n\u001b[0m\u001b[1;32m     72\u001b[0m     \u001b[0mw1\u001b[0m \u001b[0;34m=\u001b[0m \u001b[0mw1\u001b[0m\u001b[0;34m\u001b[0m\u001b[0;34m\u001b[0m\u001b[0m\n\u001b[1;32m     73\u001b[0m     \u001b[0mw2\u001b[0m \u001b[0;34m=\u001b[0m \u001b[0mw2\u001b[0m\u001b[0;34m\u001b[0m\u001b[0;34m\u001b[0m\u001b[0m\n",
            "\u001b[0;32m<ipython-input-61-41d62d061336>\u001b[0m in \u001b[0;36mrunning\u001b[0;34m(self, n_days, max_fail_count, date)\u001b[0m\n\u001b[1;32m     39\u001b[0m       \u001b[0;31m#update day\u001b[0m\u001b[0;34m\u001b[0m\u001b[0;34m\u001b[0m\u001b[0;34m\u001b[0m\u001b[0m\n\u001b[1;32m     40\u001b[0m       \u001b[0mdate\u001b[0m \u001b[0;34m-=\u001b[0m \u001b[0mdatetime\u001b[0m\u001b[0;34m.\u001b[0m\u001b[0mtimedelta\u001b[0m\u001b[0;34m(\u001b[0m\u001b[0mdays\u001b[0m\u001b[0;34m=\u001b[0m\u001b[0;36m1\u001b[0m\u001b[0;34m)\u001b[0m\u001b[0;34m\u001b[0m\u001b[0;34m\u001b[0m\u001b[0m\n\u001b[0;32m---> 41\u001b[0;31m       \u001b[0mtime\u001b[0m\u001b[0;34m.\u001b[0m\u001b[0msleep\u001b[0m\u001b[0;34m(\u001b[0m\u001b[0;36m20\u001b[0m\u001b[0;34m)\u001b[0m\u001b[0;34m\u001b[0m\u001b[0;34m\u001b[0m\u001b[0m\n\u001b[0m\u001b[1;32m     42\u001b[0m \u001b[0;34m\u001b[0m\u001b[0m\n\u001b[1;32m     43\u001b[0m \u001b[0;34m\u001b[0m\u001b[0m\n",
            "\u001b[0;31mKeyboardInterrupt\u001b[0m: "
          ]
        }
      ]
    },
    {
      "cell_type": "code",
      "metadata": {
        "id": "qIPq43RVdunr"
      },
      "source": [
        "c.crawler('20210322')"
      ],
      "execution_count": null,
      "outputs": []
    },
    {
      "cell_type": "code",
      "metadata": {
        "id": "U0Vpnr5seNYs"
      },
      "source": [
        ""
      ],
      "execution_count": null,
      "outputs": []
    },
    {
      "cell_type": "code",
      "metadata": {
        "id": "fEyovnlgcsu1"
      },
      "source": [
        "c = stock_filter(date='20200422')"
      ],
      "execution_count": 6,
      "outputs": []
    },
    {
      "cell_type": "code",
      "metadata": {
        "id": "6JNpPBa-dCbd"
      },
      "source": [
        ""
      ],
      "execution_count": null,
      "outputs": []
    },
    {
      "cell_type": "code",
      "metadata": {
        "colab": {
          "base_uri": "https://localhost:8080/"
        },
        "id": "9pIph9jhpotH",
        "outputId": "4dea2e74-84d1-4ac5-d9a9-a84edb49f797"
      },
      "source": [
        "!git clone https://github.com/overred0704/Stock_filter.git"
      ],
      "execution_count": 69,
      "outputs": [
        {
          "output_type": "stream",
          "text": [
            "fatal: destination path 'Stock_filter' already exists and is not an empty directory.\n"
          ],
          "name": "stdout"
        }
      ]
    },
    {
      "cell_type": "code",
      "metadata": {
        "id": "ijuY8N8apsU0"
      },
      "source": [
        "from Stock_filter import stock_filter"
      ],
      "execution_count": 68,
      "outputs": []
    },
    {
      "cell_type": "code",
      "metadata": {
        "id": "srZuvFDPp39S"
      },
      "source": [
        ""
      ],
      "execution_count": null,
      "outputs": []
    },
    {
      "cell_type": "code",
      "metadata": {
        "colab": {
          "base_uri": "https://localhost:8080/",
          "height": 167
        },
        "id": "hLTHlhJipzu-",
        "outputId": "1130fd6a-8b75-49e0-84b7-3e92794ee713"
      },
      "source": [
        "a = stock_filter()"
      ],
      "execution_count": 67,
      "outputs": [
        {
          "output_type": "error",
          "ename": "TypeError",
          "evalue": "ignored",
          "traceback": [
            "\u001b[0;31m---------------------------------------------------------------------------\u001b[0m",
            "\u001b[0;31mTypeError\u001b[0m                                 Traceback (most recent call last)",
            "\u001b[0;32m<ipython-input-67-bcf0d3073657>\u001b[0m in \u001b[0;36m<module>\u001b[0;34m()\u001b[0m\n\u001b[0;32m----> 1\u001b[0;31m \u001b[0ma\u001b[0m \u001b[0;34m=\u001b[0m \u001b[0mstock_filter\u001b[0m\u001b[0;34m(\u001b[0m\u001b[0;34m)\u001b[0m\u001b[0;34m\u001b[0m\u001b[0;34m\u001b[0m\u001b[0m\n\u001b[0m",
            "\u001b[0;31mTypeError\u001b[0m: 'module' object is not callable"
          ]
        }
      ]
    }
  ]
}