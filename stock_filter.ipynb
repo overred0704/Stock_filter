{
  "nbformat": 4,
  "nbformat_minor": 0,
  "metadata": {
    "colab": {
      "name": "stock filter.ipynb",
      "provenance": [],
      "authorship_tag": "ABX9TyMcVwff2JP6py79HR6NZtxJ",
      "include_colab_link": true
    },
    "kernelspec": {
      "name": "python3",
      "display_name": "Python 3"
    },
    "language_info": {
      "name": "python"
    }
  },
  "cells": [
    {
      "cell_type": "markdown",
      "metadata": {
        "id": "view-in-github",
        "colab_type": "text"
      },
      "source": [
        "<a href=\"https://colab.research.google.com/github/overred0704/Stock_filter/blob/main/stock_filter.ipynb\" target=\"_parent\"><img src=\"https://colab.research.google.com/assets/colab-badge.svg\" alt=\"Open In Colab\"/></a>"
      ]
    },
    {
      "cell_type": "markdown",
      "metadata": {
        "id": "Oeusmv92Sts7"
      },
      "source": [
        "#import package"
      ]
    },
    {
      "cell_type": "code",
      "metadata": {
        "id": "nIdbUuDOSwA0"
      },
      "source": [
        "import requests\n",
        "from io import StringIO\n",
        "import pandas as pd\n",
        "import numpy as np\n",
        "import datetime\n",
        "import time"
      ],
      "execution_count": 1,
      "outputs": []
    },
    {
      "cell_type": "markdown",
      "metadata": {
        "id": "lZ1c30IOTCzy"
      },
      "source": [
        "#set crawler"
      ]
    },
    {
      "cell_type": "code",
      "metadata": {
        "id": "-onSH0RWTErT"
      },
      "source": [
        "def crawl_price(date):\n",
        "    url = requests.post('http://www.twse.com.tw/exchangeReport/MI_INDEX?response=csv&date=' + str(date).split(' ')[0].replace('-','') + '&type=ALL')\n",
        "    df = pd.read_csv(StringIO(\"\\n\".join([i.translate({ord(c): None for c in ' '}) \n",
        "                                        for i in url.text.split('\\n') \n",
        "                                        if len(i.split('\",')) == 17 and i[0] != '='])), header=0)\n",
        "    df = df.set_index('證券代號')\n",
        "    df['成交金額'] = df['成交金額'].str.replace(',','')\n",
        "    df['成交股數'] = df['成交股數'].str.replace(',','')\n",
        "    return df"
      ],
      "execution_count": 2,
      "outputs": []
    },
    {
      "cell_type": "markdown",
      "metadata": {
        "id": "f5eub-5FT273"
      },
      "source": [
        "#set runing"
      ]
    },
    {
      "cell_type": "code",
      "metadata": {
        "id": "LZcPfpnfT9OF"
      },
      "source": [
        "def running(n_days=3, max_fail_count = 4):\n",
        "  \n",
        "  #variable initial\n",
        "  data = {}\n",
        "  date = datetime.datetime.now()\n",
        "  fail_count = 0\n",
        "\n",
        "  for _ in range(n_days):\n",
        "\n",
        "    print('loading', date)\n",
        "    # crawler\n",
        "    try:\n",
        "        # start\n",
        "        data[date.date()] = crawl_price(date)\n",
        "        print('complete!')\n",
        "        fail_count = 0\n",
        "    except:\n",
        "        # 跳過假日\n",
        "        print('fail!')\n",
        "        fail_count += 1\n",
        "    if fail_count > max_fail_count:\n",
        "      break\n",
        "    \n",
        "    #update day\n",
        "    date -= datetime.timedelta(days=1)\n",
        "    time.sleep(20)\n",
        "\n",
        "  #取得股數\n",
        "  df = pd.DataFrame({k:d['成交股數'] for k,d in data.items()}).transpose()\n",
        "  df.index = pd.to_datetime(df.index)\n",
        "  c = df.transpose()   \n",
        "\n",
        "  #剔除空值\n",
        "  c.dropna(axis=0, inplace=True)\n",
        "\n",
        "  #convert data type and rename columns\n",
        "  c = c.astype(str).astype(int)\n",
        "  c.columns = ['今天', '昨天','前天']\n",
        "\n",
        "  return c"
      ],
      "execution_count": 3,
      "outputs": []
    },
    {
      "cell_type": "code",
      "metadata": {
        "colab": {
          "base_uri": "https://localhost:8080/"
        },
        "id": "ZaIGfDANGZOy",
        "outputId": "f2669f55-e586-4d42-b61d-ce8284419cb2"
      },
      "source": [
        "df = running()"
      ],
      "execution_count": 4,
      "outputs": [
        {
          "output_type": "stream",
          "text": [
            "loading 2021-06-18 12:30:25.035511\n",
            "complete!\n",
            "loading 2021-06-17 12:30:25.035511\n",
            "complete!\n",
            "loading 2021-06-16 12:30:25.035511\n",
            "complete!\n"
          ],
          "name": "stdout"
        }
      ]
    },
    {
      "cell_type": "code",
      "metadata": {
        "id": "E-w3uigWGlP0"
      },
      "source": [
        "w1 = (1/3)\n",
        "w2 = 3"
      ],
      "execution_count": 5,
      "outputs": []
    },
    {
      "cell_type": "code",
      "metadata": {
        "id": "Z5FaMJjfGdc7"
      },
      "source": [
        "#calculate threshold\n",
        "df['threshold1'] = df['今天'] - w1 * df['昨天']\n",
        "df['threshold2'] = df['前天'] * w2 - df['昨天']"
      ],
      "execution_count": 6,
      "outputs": []
    },
    {
      "cell_type": "code",
      "metadata": {
        "id": "zmsQN8EuG5Zw"
      },
      "source": [
        "#set filter\n",
        "f1 = df['threshold1'] < 0\n",
        "f2 = df['threshold2'] < 0"
      ],
      "execution_count": 7,
      "outputs": []
    },
    {
      "cell_type": "code",
      "metadata": {
        "id": "BkSvlGkAG-pC"
      },
      "source": [
        "#write to new df\n",
        "df_new = df[(f1 & f2 )].sort_values('前天',ascending=False)\n",
        "\n",
        "df_new = df_new.drop(['threshold1', 'threshold2'], axis=1)\n",
        "\n",
        "df_new.index.name = None"
      ],
      "execution_count": 8,
      "outputs": []
    },
    {
      "cell_type": "code",
      "metadata": {
        "id": "J0f7kjAIHCwG"
      },
      "source": [
        "df_new.to_excel('0618.xlsx')"
      ],
      "execution_count": 9,
      "outputs": []
    },
    {
      "cell_type": "code",
      "metadata": {
        "colab": {
          "base_uri": "https://localhost:8080/",
          "height": 327
        },
        "id": "Jx8wqExOHbDy",
        "outputId": "fa2751b4-1953-440d-edbd-16b4b4217ef8"
      },
      "source": [
        "df_new"
      ],
      "execution_count": 10,
      "outputs": [
        {
          "output_type": "execute_result",
          "data": {
            "text/html": [
              "<div>\n",
              "<style scoped>\n",
              "    .dataframe tbody tr th:only-of-type {\n",
              "        vertical-align: middle;\n",
              "    }\n",
              "\n",
              "    .dataframe tbody tr th {\n",
              "        vertical-align: top;\n",
              "    }\n",
              "\n",
              "    .dataframe thead th {\n",
              "        text-align: right;\n",
              "    }\n",
              "</style>\n",
              "<table border=\"1\" class=\"dataframe\">\n",
              "  <thead>\n",
              "    <tr style=\"text-align: right;\">\n",
              "      <th></th>\n",
              "      <th>今天</th>\n",
              "      <th>昨天</th>\n",
              "      <th>前天</th>\n",
              "    </tr>\n",
              "  </thead>\n",
              "  <tbody>\n",
              "    <tr>\n",
              "      <th>2406</th>\n",
              "      <td>6629448</td>\n",
              "      <td>43139206</td>\n",
              "      <td>10759430</td>\n",
              "    </tr>\n",
              "    <tr>\n",
              "      <th>6477</th>\n",
              "      <td>4415117</td>\n",
              "      <td>21431447</td>\n",
              "      <td>6417341</td>\n",
              "    </tr>\n",
              "    <tr>\n",
              "      <th>1809</th>\n",
              "      <td>2420553</td>\n",
              "      <td>11913296</td>\n",
              "      <td>2240984</td>\n",
              "    </tr>\n",
              "    <tr>\n",
              "      <th>1454</th>\n",
              "      <td>132063</td>\n",
              "      <td>460565</td>\n",
              "      <td>46387</td>\n",
              "    </tr>\n",
              "    <tr>\n",
              "      <th>3266</th>\n",
              "      <td>30000</td>\n",
              "      <td>104001</td>\n",
              "      <td>15000</td>\n",
              "    </tr>\n",
              "    <tr>\n",
              "      <th>2891C</th>\n",
              "      <td>7212</td>\n",
              "      <td>33244</td>\n",
              "      <td>7183</td>\n",
              "    </tr>\n",
              "    <tr>\n",
              "      <th>4581</th>\n",
              "      <td>7000</td>\n",
              "      <td>47002</td>\n",
              "      <td>6073</td>\n",
              "    </tr>\n",
              "    <tr>\n",
              "      <th>1438</th>\n",
              "      <td>11100</td>\n",
              "      <td>37505</td>\n",
              "      <td>2000</td>\n",
              "    </tr>\n",
              "    <tr>\n",
              "      <th>1213</th>\n",
              "      <td>0</td>\n",
              "      <td>36341</td>\n",
              "      <td>1014</td>\n",
              "    </tr>\n",
              "  </tbody>\n",
              "</table>\n",
              "</div>"
            ],
            "text/plain": [
              "            今天        昨天        前天\n",
              "2406   6629448  43139206  10759430\n",
              "6477   4415117  21431447   6417341\n",
              "1809   2420553  11913296   2240984\n",
              "1454    132063    460565     46387\n",
              "3266     30000    104001     15000\n",
              "2891C     7212     33244      7183\n",
              "4581      7000     47002      6073\n",
              "1438     11100     37505      2000\n",
              "1213         0     36341      1014"
            ]
          },
          "metadata": {
            "tags": []
          },
          "execution_count": 10
        }
      ]
    },
    {
      "cell_type": "markdown",
      "metadata": {
        "id": "4VJRcg_9HKJI"
      },
      "source": [
        "#filtering function"
      ]
    },
    {
      "cell_type": "code",
      "metadata": {
        "id": "s0u7WGd3WlC9"
      },
      "source": [
        "def filtering(w1 = (1/3), w2 = 3):\n",
        "  df = running()\n",
        "\n",
        "  #calculate threshold\n",
        "  df['threshold1'] = df['今天'] - w1 * df['昨天']\n",
        "  df['threshold2'] = df['前天'] * w2 - df['昨天']\n",
        "\n",
        "  #set filter\n",
        "  f1 = df['threshold1'] < 0\n",
        "  f2 = df['threshold2'] < 0\n",
        "\n",
        "  #write to new df\n",
        "  df_new = df[(f1 & f2 )].sort_values('前天',ascending=False)\n",
        "\n",
        "  df_new = df_new.drop(['threshold1', 'threshold2'], axis=1)\n",
        "\n",
        "  df_new.index.name = None\n",
        "\n",
        "  return df_new"
      ],
      "execution_count": 46,
      "outputs": []
    },
    {
      "cell_type": "code",
      "metadata": {
        "colab": {
          "base_uri": "https://localhost:8080/"
        },
        "id": "ihA1dnHnXxfS",
        "outputId": "7516f966-9879-4ebe-a9c4-d5da0a846bac"
      },
      "source": [
        "test = filtering()"
      ],
      "execution_count": 47,
      "outputs": [
        {
          "output_type": "stream",
          "text": [
            "loading 2021-06-18 09:10:49.389117\n",
            "complete!\n",
            "loading 2021-06-17 09:10:49.389117\n",
            "complete!\n",
            "loading 2021-06-16 09:10:49.389117\n",
            "complete!\n"
          ],
          "name": "stdout"
        }
      ]
    }
  ]
}