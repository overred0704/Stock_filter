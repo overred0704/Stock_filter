{
  "nbformat": 4,
  "nbformat_minor": 0,
  "metadata": {
    "colab": {
      "name": "stock filter666.ipynb",
      "provenance": [],
      "authorship_tag": "ABX9TyOqozGxhBVI6I3/gn4X4YNm",
      "include_colab_link": true
    },
    "kernelspec": {
      "name": "python3",
      "display_name": "Python 3"
    },
    "language_info": {
      "name": "python"
    }
  },
  "cells": [
    {
      "cell_type": "markdown",
      "metadata": {
        "id": "view-in-github",
        "colab_type": "text"
      },
      "source": [
        "<a href=\"https://colab.research.google.com/github/overred0704/Stock_filter/blob/main/stock_filter_V2.ipynb\" target=\"_parent\"><img src=\"https://colab.research.google.com/assets/colab-badge.svg\" alt=\"Open In Colab\"/></a>"
      ]
    },
    {
      "cell_type": "markdown",
      "metadata": {
        "id": "fgjXooLPuwqc"
      },
      "source": [
        "#gogo"
      ]
    },
    {
      "cell_type": "markdown",
      "metadata": {
        "id": "Oeusmv92Sts7"
      },
      "source": [
        "##import package"
      ]
    },
    {
      "cell_type": "code",
      "metadata": {
        "id": "nIdbUuDOSwA0"
      },
      "source": [
        "import requests\n",
        "from io import StringIO\n",
        "import pandas as pd\n",
        "import numpy as np\n",
        "import datetime\n",
        "import time"
      ],
      "execution_count": null,
      "outputs": []
    },
    {
      "cell_type": "markdown",
      "metadata": {
        "id": "lZ1c30IOTCzy"
      },
      "source": [
        "##set crawler"
      ]
    },
    {
      "cell_type": "code",
      "metadata": {
        "id": "-onSH0RWTErT"
      },
      "source": [
        "def crawl_price(date):\n",
        "    url = requests.post('http://www.twse.com.tw/exchangeReport/MI_INDEX?response=csv&date=' + str(date).split(' ')[0].replace('-','') + '&type=ALL')\n",
        "    df = pd.read_csv(StringIO(\"\\n\".join([i.translate({ord(c): None for c in ' '}) \n",
        "                                        for i in url.text.split('\\n') \n",
        "                                        if len(i.split('\",')) == 17 and i[0] != '='])), header=0)\n",
        "    df = df.set_index('證券代號')\n",
        "    df['成交金額'] = df['成交金額'].str.replace(',','')\n",
        "    df['成交股數'] = df['成交股數'].str.replace(',','')\n",
        "    return df"
      ],
      "execution_count": null,
      "outputs": []
    },
    {
      "cell_type": "markdown",
      "metadata": {
        "id": "f5eub-5FT273"
      },
      "source": [
        "##set runing"
      ]
    },
    {
      "cell_type": "code",
      "metadata": {
        "id": "LZcPfpnfT9OF"
      },
      "source": [
        "def running(n_days=3, max_fail_count = 4, date=datetime.datetime.now()):\n",
        "  \n",
        "  #variable initial\n",
        "  data = {}\n",
        "  fail_count = 0\n",
        "\n",
        "  while n_days > 0 :\n",
        "\n",
        "    print('loading', date)\n",
        "    # crawler\n",
        "    try:\n",
        "        # start\n",
        "        data[date.date()] = crawl_price(date)\n",
        "        print('complete!')\n",
        "        fail_count = 0\n",
        "    except:\n",
        "        # 跳過假日\n",
        "        print('fail!')\n",
        "        fail_count += 1\n",
        "    else:\n",
        "      n_days -= 1\n",
        "    if fail_count > max_fail_count:\n",
        "      break\n",
        "    \n",
        "    #update day\n",
        "    date -= datetime.timedelta(days=1)\n",
        "    time.sleep(20)\n",
        "\n",
        "    \n",
        "\n",
        "  #取得股數\n",
        "  df = pd.DataFrame({k:d['成交股數'] for k,d in data.items()}).transpose()\n",
        "  df.index = pd.to_datetime(df.index)\n",
        "  c = df.transpose()   \n",
        "\n",
        "  #剔除空值\n",
        "  c.dropna(axis=0, inplace=True)\n",
        "\n",
        "  #convert data type and rename columns\n",
        "  c = c.astype(str).astype(int)\n",
        "  c.columns = ['今天', '昨天','前天']\n",
        "\n",
        "  return c"
      ],
      "execution_count": null,
      "outputs": []
    },
    {
      "cell_type": "markdown",
      "metadata": {
        "id": "8v8U-zWMu8o8"
      },
      "source": [
        "#set"
      ]
    },
    {
      "cell_type": "code",
      "metadata": {
        "id": "1ubg8EXRu4ql"
      },
      "source": [
        "da = datetime.datetime(2021,2,4)\n",
        "print(da)"
      ],
      "execution_count": null,
      "outputs": []
    },
    {
      "cell_type": "code",
      "metadata": {
        "colab": {
          "base_uri": "https://localhost:8080/"
        },
        "id": "ZaIGfDANGZOy",
        "outputId": "29aed7b3-dbd2-4ed0-a9d5-36d471bd1493"
      },
      "source": [
        "df = running(date=da)"
      ],
      "execution_count": null,
      "outputs": [
        {
          "output_type": "stream",
          "text": [
            "loading 2021-02-04 00:00:00\n",
            "fail!\n",
            "loading 2021-02-03 00:00:00\n",
            "complete!\n",
            "loading 2021-02-02 00:00:00\n",
            "complete!\n",
            "loading 2021-02-01 00:00:00\n",
            "complete!\n"
          ],
          "name": "stdout"
        }
      ]
    },
    {
      "cell_type": "code",
      "metadata": {
        "id": "E-w3uigWGlP0"
      },
      "source": [
        "w1 = (1/4)\n",
        "w2 = 3"
      ],
      "execution_count": null,
      "outputs": []
    },
    {
      "cell_type": "code",
      "metadata": {
        "id": "Z5FaMJjfGdc7"
      },
      "source": [
        "#calculate threshold\n",
        "df['threshold1'] = df['今天'] - w1 * df['昨天']\n",
        "df['threshold2'] = df['前天'] * w2 - df['昨天']"
      ],
      "execution_count": null,
      "outputs": []
    },
    {
      "cell_type": "code",
      "metadata": {
        "id": "zmsQN8EuG5Zw"
      },
      "source": [
        "#set filter\n",
        "f1 = df['threshold1'] < 0\n",
        "f2 = df['threshold2'] < 0"
      ],
      "execution_count": null,
      "outputs": []
    },
    {
      "cell_type": "code",
      "metadata": {
        "id": "BkSvlGkAG-pC"
      },
      "source": [
        "#write to new df\n",
        "df_new = df[(f1 & f2 )].sort_values('前天',ascending=False)\n",
        "\n",
        "df_new = df_new.drop(['threshold1', 'threshold2'], axis=1)\n",
        "\n",
        "df_new.index.name = None"
      ],
      "execution_count": null,
      "outputs": []
    },
    {
      "cell_type": "code",
      "metadata": {
        "id": "Jx8wqExOHbDy",
        "colab": {
          "base_uri": "https://localhost:8080/",
          "height": 389
        },
        "outputId": "b17b7735-2c02-4813-811d-23d553cef27a"
      },
      "source": [
        "df_new"
      ],
      "execution_count": null,
      "outputs": [
        {
          "output_type": "execute_result",
          "data": {
            "text/html": [
              "<div>\n",
              "<style scoped>\n",
              "    .dataframe tbody tr th:only-of-type {\n",
              "        vertical-align: middle;\n",
              "    }\n",
              "\n",
              "    .dataframe tbody tr th {\n",
              "        vertical-align: top;\n",
              "    }\n",
              "\n",
              "    .dataframe thead th {\n",
              "        text-align: right;\n",
              "    }\n",
              "</style>\n",
              "<table border=\"1\" class=\"dataframe\">\n",
              "  <thead>\n",
              "    <tr style=\"text-align: right;\">\n",
              "      <th></th>\n",
              "      <th>今天</th>\n",
              "      <th>昨天</th>\n",
              "      <th>前天</th>\n",
              "    </tr>\n",
              "  </thead>\n",
              "  <tbody>\n",
              "    <tr>\n",
              "      <th>2491</th>\n",
              "      <td>897340</td>\n",
              "      <td>7242205</td>\n",
              "      <td>755611</td>\n",
              "    </tr>\n",
              "    <tr>\n",
              "      <th>2365</th>\n",
              "      <td>982889</td>\n",
              "      <td>11376957</td>\n",
              "      <td>447650</td>\n",
              "    </tr>\n",
              "    <tr>\n",
              "      <th>1416</th>\n",
              "      <td>98672</td>\n",
              "      <td>770842</td>\n",
              "      <td>187393</td>\n",
              "    </tr>\n",
              "    <tr>\n",
              "      <th>2509</th>\n",
              "      <td>159150</td>\n",
              "      <td>683934</td>\n",
              "      <td>95539</td>\n",
              "    </tr>\n",
              "    <tr>\n",
              "      <th>2849</th>\n",
              "      <td>74280</td>\n",
              "      <td>396393</td>\n",
              "      <td>59584</td>\n",
              "    </tr>\n",
              "    <tr>\n",
              "      <th>2891B</th>\n",
              "      <td>1306</td>\n",
              "      <td>262632</td>\n",
              "      <td>24712</td>\n",
              "    </tr>\n",
              "    <tr>\n",
              "      <th>1453</th>\n",
              "      <td>4463</td>\n",
              "      <td>94246</td>\n",
              "      <td>10696</td>\n",
              "    </tr>\n",
              "    <tr>\n",
              "      <th>1413</th>\n",
              "      <td>24123</td>\n",
              "      <td>117969</td>\n",
              "      <td>6000</td>\n",
              "    </tr>\n",
              "    <tr>\n",
              "      <th>2897A</th>\n",
              "      <td>0</td>\n",
              "      <td>23000</td>\n",
              "      <td>5000</td>\n",
              "    </tr>\n",
              "    <tr>\n",
              "      <th>5906</th>\n",
              "      <td>2025</td>\n",
              "      <td>14464</td>\n",
              "      <td>3100</td>\n",
              "    </tr>\n",
              "    <tr>\n",
              "      <th>1475</th>\n",
              "      <td>1028</td>\n",
              "      <td>28314</td>\n",
              "      <td>1028</td>\n",
              "    </tr>\n",
              "  </tbody>\n",
              "</table>\n",
              "</div>"
            ],
            "text/plain": [
              "           今天        昨天      前天\n",
              "2491   897340   7242205  755611\n",
              "2365   982889  11376957  447650\n",
              "1416    98672    770842  187393\n",
              "2509   159150    683934   95539\n",
              "2849    74280    396393   59584\n",
              "2891B    1306    262632   24712\n",
              "1453     4463     94246   10696\n",
              "1413    24123    117969    6000\n",
              "2897A       0     23000    5000\n",
              "5906     2025     14464    3100\n",
              "1475     1028     28314    1028"
            ]
          },
          "metadata": {
            "tags": []
          },
          "execution_count": 55
        }
      ]
    },
    {
      "cell_type": "markdown",
      "metadata": {
        "id": "4VJRcg_9HKJI"
      },
      "source": [
        "#filtering function"
      ]
    },
    {
      "cell_type": "code",
      "metadata": {
        "id": "s0u7WGd3WlC9"
      },
      "source": [
        "def filtering(w1 = (1/3), w2 = 3):\n",
        "  df = running()\n",
        "\n",
        "  #calculate threshold\n",
        "  df['threshold1'] = df['今天'] - w1 * df['昨天']\n",
        "  df['threshold2'] = df['前天'] * w2 - df['昨天']\n",
        "\n",
        "  #set filter\n",
        "  f1 = df['threshold1'] < 0\n",
        "  f2 = df['threshold2'] < 0\n",
        "\n",
        "  #write to new df\n",
        "  df_new = df[(f1 & f2 )].sort_values('前天',ascending=False)\n",
        "\n",
        "  df_new = df_new.drop(['threshold1', 'threshold2'], axis=1)\n",
        "\n",
        "  df_new.index.name = None\n",
        "\n",
        "  return df_new"
      ],
      "execution_count": null,
      "outputs": []
    },
    {
      "cell_type": "code",
      "metadata": {
        "colab": {
          "base_uri": "https://localhost:8080/"
        },
        "id": "ihA1dnHnXxfS",
        "outputId": "7516f966-9879-4ebe-a9c4-d5da0a846bac"
      },
      "source": [
        "test = filtering()"
      ],
      "execution_count": null,
      "outputs": [
        {
          "output_type": "stream",
          "text": [
            "loading 2021-06-18 09:10:49.389117\n",
            "complete!\n",
            "loading 2021-06-17 09:10:49.389117\n",
            "complete!\n",
            "loading 2021-06-16 09:10:49.389117\n",
            "complete!\n"
          ],
          "name": "stdout"
        }
      ]
    }
  ]
}